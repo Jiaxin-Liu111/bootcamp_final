{
 "cells": [
  {
   "cell_type": "code",
   "execution_count": 2,
   "id": "52bfc107",
   "metadata": {},
   "outputs": [],
   "source": [
    "import pandas as pd\n",
    "import numpy as np\n",
    "import seaborn as sns\n",
    "import matplotlib.pyplot as plt\n",
    "from sklearn.preprocessing import LabelEncoder\n",
    "from sklearn.preprocessing import StandardScaler"
   ]
  },
  {
   "cell_type": "code",
   "execution_count": 3,
   "id": "0238fc89",
   "metadata": {},
   "outputs": [
    {
     "data": {
      "text/html": [
       "<div>\n",
       "<style scoped>\n",
       "    .dataframe tbody tr th:only-of-type {\n",
       "        vertical-align: middle;\n",
       "    }\n",
       "\n",
       "    .dataframe tbody tr th {\n",
       "        vertical-align: top;\n",
       "    }\n",
       "\n",
       "    .dataframe thead th {\n",
       "        text-align: right;\n",
       "    }\n",
       "</style>\n",
       "<table border=\"1\" class=\"dataframe\">\n",
       "  <thead>\n",
       "    <tr style=\"text-align: right;\">\n",
       "      <th></th>\n",
       "      <th>instance_id</th>\n",
       "      <th>artist_name</th>\n",
       "      <th>track_name</th>\n",
       "      <th>popularity</th>\n",
       "      <th>acousticness</th>\n",
       "      <th>danceability</th>\n",
       "      <th>duration_ms</th>\n",
       "      <th>energy</th>\n",
       "      <th>instrumentalness</th>\n",
       "      <th>key</th>\n",
       "      <th>liveness</th>\n",
       "      <th>loudness</th>\n",
       "      <th>mode</th>\n",
       "      <th>speechiness</th>\n",
       "      <th>tempo</th>\n",
       "      <th>obtained_date</th>\n",
       "      <th>valence</th>\n",
       "      <th>music_genre</th>\n",
       "    </tr>\n",
       "  </thead>\n",
       "  <tbody>\n",
       "    <tr>\n",
       "      <th>0</th>\n",
       "      <td>32894.0</td>\n",
       "      <td>Röyksopp</td>\n",
       "      <td>Röyksopp's Night Out</td>\n",
       "      <td>27.0</td>\n",
       "      <td>0.00468</td>\n",
       "      <td>0.652</td>\n",
       "      <td>-1.0</td>\n",
       "      <td>0.941</td>\n",
       "      <td>0.79200</td>\n",
       "      <td>A#</td>\n",
       "      <td>0.115</td>\n",
       "      <td>-5.201</td>\n",
       "      <td>Minor</td>\n",
       "      <td>0.0748</td>\n",
       "      <td>100.889</td>\n",
       "      <td>4-Apr</td>\n",
       "      <td>0.759</td>\n",
       "      <td>Electronic</td>\n",
       "    </tr>\n",
       "    <tr>\n",
       "      <th>1</th>\n",
       "      <td>46652.0</td>\n",
       "      <td>Thievery Corporation</td>\n",
       "      <td>The Shining Path</td>\n",
       "      <td>31.0</td>\n",
       "      <td>0.01270</td>\n",
       "      <td>0.622</td>\n",
       "      <td>218293.0</td>\n",
       "      <td>0.890</td>\n",
       "      <td>0.95000</td>\n",
       "      <td>D</td>\n",
       "      <td>0.124</td>\n",
       "      <td>-7.043</td>\n",
       "      <td>Minor</td>\n",
       "      <td>0.0300</td>\n",
       "      <td>115.00200000000001</td>\n",
       "      <td>4-Apr</td>\n",
       "      <td>0.531</td>\n",
       "      <td>Electronic</td>\n",
       "    </tr>\n",
       "    <tr>\n",
       "      <th>2</th>\n",
       "      <td>30097.0</td>\n",
       "      <td>Dillon Francis</td>\n",
       "      <td>Hurricane</td>\n",
       "      <td>28.0</td>\n",
       "      <td>0.00306</td>\n",
       "      <td>0.620</td>\n",
       "      <td>215613.0</td>\n",
       "      <td>0.755</td>\n",
       "      <td>0.01180</td>\n",
       "      <td>G#</td>\n",
       "      <td>0.534</td>\n",
       "      <td>-4.617</td>\n",
       "      <td>Major</td>\n",
       "      <td>0.0345</td>\n",
       "      <td>127.994</td>\n",
       "      <td>4-Apr</td>\n",
       "      <td>0.333</td>\n",
       "      <td>Electronic</td>\n",
       "    </tr>\n",
       "    <tr>\n",
       "      <th>3</th>\n",
       "      <td>62177.0</td>\n",
       "      <td>Dubloadz</td>\n",
       "      <td>Nitro</td>\n",
       "      <td>34.0</td>\n",
       "      <td>0.02540</td>\n",
       "      <td>0.774</td>\n",
       "      <td>166875.0</td>\n",
       "      <td>0.700</td>\n",
       "      <td>0.00253</td>\n",
       "      <td>C#</td>\n",
       "      <td>0.157</td>\n",
       "      <td>-4.498</td>\n",
       "      <td>Major</td>\n",
       "      <td>0.2390</td>\n",
       "      <td>128.014</td>\n",
       "      <td>4-Apr</td>\n",
       "      <td>0.270</td>\n",
       "      <td>Electronic</td>\n",
       "    </tr>\n",
       "    <tr>\n",
       "      <th>4</th>\n",
       "      <td>24907.0</td>\n",
       "      <td>What So Not</td>\n",
       "      <td>Divide &amp; Conquer</td>\n",
       "      <td>32.0</td>\n",
       "      <td>0.00465</td>\n",
       "      <td>0.638</td>\n",
       "      <td>222369.0</td>\n",
       "      <td>0.587</td>\n",
       "      <td>0.90900</td>\n",
       "      <td>F#</td>\n",
       "      <td>0.157</td>\n",
       "      <td>-6.266</td>\n",
       "      <td>Major</td>\n",
       "      <td>0.0413</td>\n",
       "      <td>145.036</td>\n",
       "      <td>4-Apr</td>\n",
       "      <td>0.323</td>\n",
       "      <td>Electronic</td>\n",
       "    </tr>\n",
       "  </tbody>\n",
       "</table>\n",
       "</div>"
      ],
      "text/plain": [
       "   instance_id           artist_name            track_name  popularity  \\\n",
       "0      32894.0              Röyksopp  Röyksopp's Night Out        27.0   \n",
       "1      46652.0  Thievery Corporation      The Shining Path        31.0   \n",
       "2      30097.0        Dillon Francis             Hurricane        28.0   \n",
       "3      62177.0              Dubloadz                 Nitro        34.0   \n",
       "4      24907.0           What So Not      Divide & Conquer        32.0   \n",
       "\n",
       "   acousticness  danceability  duration_ms  energy  instrumentalness key  \\\n",
       "0       0.00468         0.652         -1.0   0.941           0.79200  A#   \n",
       "1       0.01270         0.622     218293.0   0.890           0.95000   D   \n",
       "2       0.00306         0.620     215613.0   0.755           0.01180  G#   \n",
       "3       0.02540         0.774     166875.0   0.700           0.00253  C#   \n",
       "4       0.00465         0.638     222369.0   0.587           0.90900  F#   \n",
       "\n",
       "   liveness  loudness   mode  speechiness               tempo obtained_date  \\\n",
       "0     0.115    -5.201  Minor       0.0748             100.889         4-Apr   \n",
       "1     0.124    -7.043  Minor       0.0300  115.00200000000001         4-Apr   \n",
       "2     0.534    -4.617  Major       0.0345             127.994         4-Apr   \n",
       "3     0.157    -4.498  Major       0.2390             128.014         4-Apr   \n",
       "4     0.157    -6.266  Major       0.0413             145.036         4-Apr   \n",
       "\n",
       "   valence music_genre  \n",
       "0    0.759  Electronic  \n",
       "1    0.531  Electronic  \n",
       "2    0.333  Electronic  \n",
       "3    0.270  Electronic  \n",
       "4    0.323  Electronic  "
      ]
     },
     "execution_count": 3,
     "metadata": {},
     "output_type": "execute_result"
    }
   ],
   "source": [
    "dataset = pd.read_csv('musicData.csv')\n",
    "dataset.head()"
   ]
  },
  {
   "cell_type": "code",
   "execution_count": 4,
   "id": "adde3e1c",
   "metadata": {},
   "outputs": [
    {
     "name": "stdout",
     "output_type": "stream",
     "text": [
      "<class 'pandas.core.frame.DataFrame'>\n",
      "RangeIndex: 50005 entries, 0 to 50004\n",
      "Data columns (total 18 columns):\n",
      " #   Column            Non-Null Count  Dtype  \n",
      "---  ------            --------------  -----  \n",
      " 0   instance_id       50000 non-null  float64\n",
      " 1   artist_name       50000 non-null  object \n",
      " 2   track_name        50000 non-null  object \n",
      " 3   popularity        50000 non-null  float64\n",
      " 4   acousticness      50000 non-null  float64\n",
      " 5   danceability      50000 non-null  float64\n",
      " 6   duration_ms       50000 non-null  float64\n",
      " 7   energy            50000 non-null  float64\n",
      " 8   instrumentalness  50000 non-null  float64\n",
      " 9   key               50000 non-null  object \n",
      " 10  liveness          50000 non-null  float64\n",
      " 11  loudness          50000 non-null  float64\n",
      " 12  mode              50000 non-null  object \n",
      " 13  speechiness       50000 non-null  float64\n",
      " 14  tempo             50000 non-null  object \n",
      " 15  obtained_date     50000 non-null  object \n",
      " 16  valence           50000 non-null  float64\n",
      " 17  music_genre       50000 non-null  object \n",
      "dtypes: float64(11), object(7)\n",
      "memory usage: 6.9+ MB\n"
     ]
    }
   ],
   "source": [
    "dataset.info()"
   ]
  },
  {
   "cell_type": "code",
   "execution_count": 5,
   "id": "356e1828",
   "metadata": {},
   "outputs": [
    {
     "name": "stdout",
     "output_type": "stream",
     "text": [
      "instance_id         5\n",
      "artist_name         5\n",
      "track_name          5\n",
      "popularity          5\n",
      "acousticness        5\n",
      "danceability        5\n",
      "duration_ms         5\n",
      "energy              5\n",
      "instrumentalness    5\n",
      "key                 5\n",
      "liveness            5\n",
      "loudness            5\n",
      "mode                5\n",
      "speechiness         5\n",
      "tempo               5\n",
      "obtained_date       5\n",
      "valence             5\n",
      "music_genre         5\n",
      "dtype: int64\n"
     ]
    }
   ],
   "source": [
    "print(dataset.isnull().sum())"
   ]
  },
  {
   "cell_type": "code",
   "execution_count": 6,
   "id": "67bc0900",
   "metadata": {},
   "outputs": [
    {
     "name": "stdout",
     "output_type": "stream",
     "text": [
      "5\n"
     ]
    }
   ],
   "source": [
    "# to see how many rows contain missing value\n",
    "mask = dataset.isnull().any(axis=1)\n",
    "print(mask.sum())"
   ]
  },
  {
   "cell_type": "code",
   "execution_count": 7,
   "id": "e0a3290a",
   "metadata": {},
   "outputs": [
    {
     "name": "stdout",
     "output_type": "stream",
     "text": [
      "\n",
      "Missing-field counts per row:\n",
      "10000    18\n",
      "10001    18\n",
      "10002    18\n",
      "10003    18\n",
      "10004    18\n",
      "dtype: int64\n"
     ]
    }
   ],
   "source": [
    "bad_rows = dataset[mask]\n",
    "print(\"\\nMissing-field counts per row:\")\n",
    "print(bad_rows.isnull().sum(axis=1))"
   ]
  },
  {
   "cell_type": "code",
   "execution_count": 8,
   "id": "aacbdcf9",
   "metadata": {},
   "outputs": [],
   "source": [
    "# it means row 10000, 10001, 10002, 10003 and 10004 are completely empty (18/18 columns missing), so i drop the completele empty row\n",
    "dataset_clean = dataset.dropna(how=\"all\")"
   ]
  },
  {
   "cell_type": "code",
   "execution_count": 9,
   "id": "c128252d",
   "metadata": {},
   "outputs": [
    {
     "name": "stdout",
     "output_type": "stream",
     "text": [
      "instance_id         0\n",
      "artist_name         0\n",
      "track_name          0\n",
      "popularity          0\n",
      "acousticness        0\n",
      "danceability        0\n",
      "duration_ms         0\n",
      "energy              0\n",
      "instrumentalness    0\n",
      "key                 0\n",
      "liveness            0\n",
      "loudness            0\n",
      "mode                0\n",
      "speechiness         0\n",
      "tempo               0\n",
      "obtained_date       0\n",
      "valence             0\n",
      "music_genre         0\n",
      "dtype: int64\n",
      "<class 'pandas.core.frame.DataFrame'>\n",
      "Index: 50000 entries, 0 to 50004\n",
      "Data columns (total 18 columns):\n",
      " #   Column            Non-Null Count  Dtype  \n",
      "---  ------            --------------  -----  \n",
      " 0   instance_id       50000 non-null  float64\n",
      " 1   artist_name       50000 non-null  object \n",
      " 2   track_name        50000 non-null  object \n",
      " 3   popularity        50000 non-null  float64\n",
      " 4   acousticness      50000 non-null  float64\n",
      " 5   danceability      50000 non-null  float64\n",
      " 6   duration_ms       50000 non-null  float64\n",
      " 7   energy            50000 non-null  float64\n",
      " 8   instrumentalness  50000 non-null  float64\n",
      " 9   key               50000 non-null  object \n",
      " 10  liveness          50000 non-null  float64\n",
      " 11  loudness          50000 non-null  float64\n",
      " 12  mode              50000 non-null  object \n",
      " 13  speechiness       50000 non-null  float64\n",
      " 14  tempo             50000 non-null  object \n",
      " 15  obtained_date     50000 non-null  object \n",
      " 16  valence           50000 non-null  float64\n",
      " 17  music_genre       50000 non-null  object \n",
      "dtypes: float64(11), object(7)\n",
      "memory usage: 7.2+ MB\n"
     ]
    }
   ],
   "source": [
    "print(dataset_clean.isnull().sum())\n",
    "dataset_clean.info()"
   ]
  },
  {
   "cell_type": "code",
   "execution_count": 10,
   "id": "26fefe95",
   "metadata": {},
   "outputs": [
    {
     "data": {
      "text/html": [
       "<div>\n",
       "<style scoped>\n",
       "    .dataframe tbody tr th:only-of-type {\n",
       "        vertical-align: middle;\n",
       "    }\n",
       "\n",
       "    .dataframe tbody tr th {\n",
       "        vertical-align: top;\n",
       "    }\n",
       "\n",
       "    .dataframe thead th {\n",
       "        text-align: right;\n",
       "    }\n",
       "</style>\n",
       "<table border=\"1\" class=\"dataframe\">\n",
       "  <thead>\n",
       "    <tr style=\"text-align: right;\">\n",
       "      <th></th>\n",
       "      <th>instance_id</th>\n",
       "      <th>artist_name</th>\n",
       "      <th>track_name</th>\n",
       "      <th>popularity</th>\n",
       "      <th>acousticness</th>\n",
       "      <th>danceability</th>\n",
       "      <th>duration_ms</th>\n",
       "      <th>energy</th>\n",
       "      <th>instrumentalness</th>\n",
       "      <th>key</th>\n",
       "      <th>liveness</th>\n",
       "      <th>loudness</th>\n",
       "      <th>mode</th>\n",
       "      <th>speechiness</th>\n",
       "      <th>tempo</th>\n",
       "      <th>obtained_date</th>\n",
       "      <th>valence</th>\n",
       "      <th>music_genre</th>\n",
       "    </tr>\n",
       "  </thead>\n",
       "  <tbody>\n",
       "    <tr>\n",
       "      <th>0</th>\n",
       "      <td>32894.0</td>\n",
       "      <td>Röyksopp</td>\n",
       "      <td>Röyksopp's Night Out</td>\n",
       "      <td>27.0</td>\n",
       "      <td>0.00468</td>\n",
       "      <td>0.652</td>\n",
       "      <td>-1.0</td>\n",
       "      <td>0.941</td>\n",
       "      <td>0.79200</td>\n",
       "      <td>A#</td>\n",
       "      <td>0.115</td>\n",
       "      <td>-5.201</td>\n",
       "      <td>Minor</td>\n",
       "      <td>0.0748</td>\n",
       "      <td>100.889</td>\n",
       "      <td>4-Apr</td>\n",
       "      <td>0.759</td>\n",
       "      <td>Electronic</td>\n",
       "    </tr>\n",
       "    <tr>\n",
       "      <th>1</th>\n",
       "      <td>46652.0</td>\n",
       "      <td>Thievery Corporation</td>\n",
       "      <td>The Shining Path</td>\n",
       "      <td>31.0</td>\n",
       "      <td>0.01270</td>\n",
       "      <td>0.622</td>\n",
       "      <td>218293.0</td>\n",
       "      <td>0.890</td>\n",
       "      <td>0.95000</td>\n",
       "      <td>D</td>\n",
       "      <td>0.124</td>\n",
       "      <td>-7.043</td>\n",
       "      <td>Minor</td>\n",
       "      <td>0.0300</td>\n",
       "      <td>115.00200000000001</td>\n",
       "      <td>4-Apr</td>\n",
       "      <td>0.531</td>\n",
       "      <td>Electronic</td>\n",
       "    </tr>\n",
       "    <tr>\n",
       "      <th>2</th>\n",
       "      <td>30097.0</td>\n",
       "      <td>Dillon Francis</td>\n",
       "      <td>Hurricane</td>\n",
       "      <td>28.0</td>\n",
       "      <td>0.00306</td>\n",
       "      <td>0.620</td>\n",
       "      <td>215613.0</td>\n",
       "      <td>0.755</td>\n",
       "      <td>0.01180</td>\n",
       "      <td>G#</td>\n",
       "      <td>0.534</td>\n",
       "      <td>-4.617</td>\n",
       "      <td>Major</td>\n",
       "      <td>0.0345</td>\n",
       "      <td>127.994</td>\n",
       "      <td>4-Apr</td>\n",
       "      <td>0.333</td>\n",
       "      <td>Electronic</td>\n",
       "    </tr>\n",
       "    <tr>\n",
       "      <th>3</th>\n",
       "      <td>62177.0</td>\n",
       "      <td>Dubloadz</td>\n",
       "      <td>Nitro</td>\n",
       "      <td>34.0</td>\n",
       "      <td>0.02540</td>\n",
       "      <td>0.774</td>\n",
       "      <td>166875.0</td>\n",
       "      <td>0.700</td>\n",
       "      <td>0.00253</td>\n",
       "      <td>C#</td>\n",
       "      <td>0.157</td>\n",
       "      <td>-4.498</td>\n",
       "      <td>Major</td>\n",
       "      <td>0.2390</td>\n",
       "      <td>128.014</td>\n",
       "      <td>4-Apr</td>\n",
       "      <td>0.270</td>\n",
       "      <td>Electronic</td>\n",
       "    </tr>\n",
       "    <tr>\n",
       "      <th>4</th>\n",
       "      <td>24907.0</td>\n",
       "      <td>What So Not</td>\n",
       "      <td>Divide &amp; Conquer</td>\n",
       "      <td>32.0</td>\n",
       "      <td>0.00465</td>\n",
       "      <td>0.638</td>\n",
       "      <td>222369.0</td>\n",
       "      <td>0.587</td>\n",
       "      <td>0.90900</td>\n",
       "      <td>F#</td>\n",
       "      <td>0.157</td>\n",
       "      <td>-6.266</td>\n",
       "      <td>Major</td>\n",
       "      <td>0.0413</td>\n",
       "      <td>145.036</td>\n",
       "      <td>4-Apr</td>\n",
       "      <td>0.323</td>\n",
       "      <td>Electronic</td>\n",
       "    </tr>\n",
       "  </tbody>\n",
       "</table>\n",
       "</div>"
      ],
      "text/plain": [
       "   instance_id           artist_name            track_name  popularity  \\\n",
       "0      32894.0              Röyksopp  Röyksopp's Night Out        27.0   \n",
       "1      46652.0  Thievery Corporation      The Shining Path        31.0   \n",
       "2      30097.0        Dillon Francis             Hurricane        28.0   \n",
       "3      62177.0              Dubloadz                 Nitro        34.0   \n",
       "4      24907.0           What So Not      Divide & Conquer        32.0   \n",
       "\n",
       "   acousticness  danceability  duration_ms  energy  instrumentalness key  \\\n",
       "0       0.00468         0.652         -1.0   0.941           0.79200  A#   \n",
       "1       0.01270         0.622     218293.0   0.890           0.95000   D   \n",
       "2       0.00306         0.620     215613.0   0.755           0.01180  G#   \n",
       "3       0.02540         0.774     166875.0   0.700           0.00253  C#   \n",
       "4       0.00465         0.638     222369.0   0.587           0.90900  F#   \n",
       "\n",
       "   liveness  loudness   mode  speechiness               tempo obtained_date  \\\n",
       "0     0.115    -5.201  Minor       0.0748             100.889         4-Apr   \n",
       "1     0.124    -7.043  Minor       0.0300  115.00200000000001         4-Apr   \n",
       "2     0.534    -4.617  Major       0.0345             127.994         4-Apr   \n",
       "3     0.157    -4.498  Major       0.2390             128.014         4-Apr   \n",
       "4     0.157    -6.266  Major       0.0413             145.036         4-Apr   \n",
       "\n",
       "   valence music_genre  \n",
       "0    0.759  Electronic  \n",
       "1    0.531  Electronic  \n",
       "2    0.333  Electronic  \n",
       "3    0.270  Electronic  \n",
       "4    0.323  Electronic  "
      ]
     },
     "execution_count": 10,
     "metadata": {},
     "output_type": "execute_result"
    }
   ],
   "source": [
    "dataset_clean.head()"
   ]
  },
  {
   "cell_type": "code",
   "execution_count": 11,
   "id": "5e13c818",
   "metadata": {},
   "outputs": [
    {
     "name": "stdout",
     "output_type": "stream",
     "text": [
      "music_genre\n",
      "Electronic     5000\n",
      "Anime          5000\n",
      "Jazz           5000\n",
      "Alternative    5000\n",
      "Country        5000\n",
      "Rap            5000\n",
      "Blues          5000\n",
      "Rock           5000\n",
      "Classical      5000\n",
      "Hip-Hop        5000\n",
      "Name: count, dtype: int64\n"
     ]
    }
   ],
   "source": [
    "print(dataset_clean['music_genre'].value_counts())"
   ]
  },
  {
   "cell_type": "code",
   "execution_count": 12,
   "id": "02e63eee",
   "metadata": {},
   "outputs": [],
   "source": [
    "# data preprocessing\n",
    "# make a clean copy of the dataset, because dataset_clean is a slice of dataset\n",
    "dataset_clean = dataset_clean.copy()\n",
    "dataset_clean['duration_ms'] = dataset_clean['duration_ms'].apply(lambda x: np.nan if x <= 0 else x)\n",
    "numeric_feats = ['popularity', 'acousticness', 'danceability', 'duration_ms', 'energy', 'instrumentalness', 'liveness', 'loudness', 'speechiness', 'tempo', 'valence']\n",
    "categorical_feats = ['key', 'mode']\n",
    "target_col = ['music_genre']\n",
    "for col in numeric_feats:\n",
    "    dataset_clean[col] = pd.to_numeric(dataset_clean[col], errors='coerce')\n",
    "    dataset_clean[col].fillna(dataset_clean[col].median(), inplace=True)\n",
    "# map musical key\n",
    "key_order = ['C', 'C#', 'D', 'D#', 'E', 'F', 'F#', 'G', 'G#', 'A', 'A#', 'B']\n",
    "key_map = {k: i for i, k in enumerate(key_order)}\n",
    "key_map['UNKNOWN'] = -1\n",
    "dataset_clean['key'] = (dataset_clean['key'].fillna('UNKNOWN').map(key_map))\n",
    "# fill and one-hot categorical mode features\n",
    "dataset_clean['is_major'] = (dataset_clean['mode'] == 'Major').astype(int)\n",
    "dataset_clean.drop(columns=['mode'], inplace=True)\n",
    "# encode genre labels to integers\n",
    "le = LabelEncoder()\n",
    "drop_col = to_drop = ['instance_id','artist_name','track_name','obtained_date']\n",
    "dataset_clean.drop(columns = drop_col, inplace=True)"
   ]
  },
  {
   "cell_type": "code",
   "execution_count": 13,
   "id": "d1acf1d3",
   "metadata": {},
   "outputs": [
    {
     "data": {
      "image/png": "[encoded data removed]",
      "text/plain": [
       "<Figure size 1200x600 with 1 Axes>"
      ]
     },
     "metadata": {},
     "output_type": "display_data"
    }
   ],
   "source": [
    "# Boxplot of energy by genre\n",
    "fig, ax = plt.subplots(figsize=(12, 6))\n",
    "sns.boxplot(data=dataset_clean, x='music_genre', y='energy', ax=ax)\n",
    "ax.set_title(\"Energy Distribution by Genre\")\n",
    "ax.set_xlabel(\"Genre\")\n",
    "ax.set_ylabel(\"Energy\")\n",
    "plt.xticks(rotation=45)\n",
    "plt.tight_layout()\n",
    "plt.show()"
   ]
  },
  {
   "cell_type": "markdown",
   "id": "e7ff2316",
   "metadata": {},
   "source": [
    "This boxplot illustrates the distribution of energy levels across different music genres. Classical and Jazz exhibit the lowest median energy and tightest ranges, while genres like Hip-Hop and EDM show significantly higher energy levels and broader distributions. This reinforces the idea that energy is a genre-sensitive feature, which can be leveraged in genre classification algorithms, playlist generation, or mood-based music recommendations. For instance, when users seek calm or high-intensity music, energy can serve as a reliable filter to distinguish between genres that align with those moods or activities."
   ]
  },
  {
   "cell_type": "code",
   "execution_count": 14,
   "id": "4bd69d6d",
   "metadata": {},
   "outputs": [
    {
     "data": {
      "image/png": "[encoded data removed]",
      "text/plain": [
       "<Figure size 600x400 with 1 Axes>"
      ]
     },
     "metadata": {},
     "output_type": "display_data"
    }
   ],
   "source": [
    "# Genre breakdown for low-energy songs (energy < 0.3)\n",
    "low_energy = dataset_clean[dataset_clean['energy'] < 0.3].copy()\n",
    "low_energy['genre_group'] = low_energy['music_genre'].apply(lambda x: 'Classical' if x == 'Classical' else 'Other Genres')\n",
    "\n",
    "# Plot the genre group counts\n",
    "genre_counts = low_energy['genre_group'].value_counts(normalize=True)\n",
    "\n",
    "plt.figure(figsize=(6, 4))\n",
    "genre_counts.plot(kind='bar', color=['#4C72B0', '#55A868'])\n",
    "plt.title('Classical vs Other Genres (Energy < 0.3)')\n",
    "plt.ylabel('Proportion')\n",
    "plt.xticks(rotation=0)\n",
    "plt.tight_layout()\n",
    "plt.show()"
   ]
  },
  {
   "cell_type": "markdown",
   "id": "b75c50ed",
   "metadata": {},
   "source": [
    "The bar plot comparing Classical music to all other genres among songs with energy below 0.3 reveals that Classical alone accounts for over 50% of low-energy tracks, while all other genres combined make up less than half. This strong concentration underscores Classical music’s intrinsic association with low-energy characteristics such as soft dynamics, slower tempo, and acoustic instrumentation. The insight is significant not just musically, but also for practical applications: in mood-based recommendation systems or playlist generation, Classical emerges as the most statistically reliable genre for calm and relaxing audio content. Moreover, this genre skew highlights the potential value of using genre–energy interactions as engineered features in predictive modeling, especially when classifying or recommending songs based on audio profiles."
   ]
  },
  {
   "cell_type": "code",
   "execution_count": 16,
   "id": "4d9de600",
   "metadata": {},
   "outputs": [
    {
     "data": {
      "image/png": "[encoded data removed]",
      "text/plain": [
       "<Figure size 640x480 with 1 Axes>"
      ]
     },
     "metadata": {},
     "output_type": "display_data"
    }
   ],
   "source": [
    "# Is Hip-Hop more likely to be high-danceability compared to other genres?\n",
    "# Create binary column: high or low danceability\n",
    "dataset_clean['dance_group'] = dataset_clean['danceability'].apply(lambda x: 'High' if x > 0.8 else 'Low')\n",
    "\n",
    "# Compare Hip-Hop vs Others in high-danceability\n",
    "dance_pivot = pd.crosstab(dataset_clean['dance_group'], dataset_clean['music_genre'], normalize='index')\n",
    "dance_pivot[['Hip-Hop']].plot(kind='bar', legend=False)\n",
    "plt.title('Proportion of Hip-Hop Among High vs Low Danceability Songs')\n",
    "plt.ylabel('Proportion of Hip-Hop')\n",
    "plt.xticks(rotation=0)\n",
    "plt.tight_layout()\n",
    "plt.show()"
   ]
  },
  {
   "cell_type": "markdown",
   "id": "a88e9310",
   "metadata": {},
   "source": [
    "This plot reveals a strong association between the Hip-Hop genre and high danceability. Among songs with a danceability score above 0.8, Hip-Hop accounts for approximately 35% of the tracks, while it represents only around 7% among low-danceability songs. This sharp contrast indicates that Hip-Hop is structurally optimized for movement and rhythm, often featuring steady beats and engaging tempos. This insight can directly inform the design of music recommendation algorithms or playlist curation engines — for example, if a user seeks high-danceability tracks (e.g., for a party or workout), the system can prioritize Hip-Hop tracks with high confidence. Additionally, it supports the idea of including genre–feature interaction terms (e.g., danceability × genre) when building predictive models for genre classification or music mood tagging."
   ]
  },
  {
   "cell_type": "code",
   "execution_count": 17,
   "id": "01d973f8",
   "metadata": {},
   "outputs": [
    {
     "name": "stderr",
     "output_type": "stream",
     "text": [
      "/var/folders/wl/g14c18_56y79lbqg8zfzfgpm0000gn/T/ipykernel_14834/1021446244.py:9: SettingWithCopyWarning: \n",
      "A value is trying to be set on a copy of a slice from a DataFrame.\n",
      "Try using .loc[row_indexer,col_indexer] = value instead\n",
      "\n",
      "See the caveats in the documentation: https://pandas.pydata.org/pandas-docs/stable/user_guide/indexing.html#returning-a-view-versus-a-copy\n",
      "  high_speech['genre_group'] = high_speech['music_genre'].apply(lambda x: top_genre if x == top_genre else 'Other Genres')\n"
     ]
    },
    {
     "data": {
      "image/png": "[encoded data removed]",
      "text/plain": [
       "<Figure size 640x480 with 1 Axes>"
      ]
     },
     "metadata": {},
     "output_type": "display_data"
    }
   ],
   "source": [
    "# Define speechiness threshold for spoken-word content\n",
    "dataset_clean['speech_group'] = dataset_clean['speechiness'].apply(lambda x: 'High' if x > 0.66 else 'Low')\n",
    "\n",
    "# Compare genre distribution among high speechiness\n",
    "high_speech = dataset_clean[dataset_clean['speech_group'] == 'High']\n",
    "top_genre = high_speech['music_genre'].value_counts().idxmax()\n",
    "\n",
    "# Create comparison group: Top genre vs Others\n",
    "high_speech['genre_group'] = high_speech['music_genre'].apply(lambda x: top_genre if x == top_genre else 'Other Genres')\n",
    "\n",
    "# Plot\n",
    "group_counts = high_speech['genre_group'].value_counts(normalize=True)\n",
    "group_counts.plot(kind='bar', color=['#E24A33', '#348ABD'])\n",
    "plt.title(f'{top_genre} vs Other Genres (Speechiness > 0.66)')\n",
    "plt.ylabel('Proportion')\n",
    "plt.xticks(rotation=0)\n",
    "plt.tight_layout()\n",
    "plt.show()"
   ]
  },
  {
   "cell_type": "markdown",
   "id": "21cfba8f",
   "metadata": {},
   "source": [
    "This plot focuses on songs with high speechiness (speechiness > 0.66), a range typically associated with spoken-word content such as rapping or dialogue. Among these tracks, Hip-Hop dominates, comprising the majority of songs in this segment. This sharp concentration illustrates that Hip-Hop is uniquely characterized by high vocal presence and rhythmic speech, distinguishing it from more instrumentally focused genres. This insight can guide genre classification efforts and speech-related audio tagging — for instance, a track with high speechiness is much more likely to be Hip-Hop, and this pattern can be used to improve automated genre prediction, voice activity detection, or even assist music platforms in flagging podcast-like content in song databases."
   ]
  },
  {
   "cell_type": "code",
   "execution_count": null,
   "id": "4477918f",
   "metadata": {},
   "outputs": [],
   "source": []
  },
  {
   "cell_type": "code",
   "execution_count": null,
   "id": "b0912acc",
   "metadata": {},
   "outputs": [],
   "source": []
  }
 ],
 "metadata": {
  "kernelspec": {
   "display_name": "Python 3 (ipykernel)",
   "language": "python",
   "name": "python3"
  },
  "language_info": {
   "codemirror_mode": {
    "name": "ipython",
    "version": 3
   },
   "file_extension": ".py",
   "mimetype": "text/x-python",
   "name": "python",
   "nbconvert_exporter": "python",
   "pygments_lexer": "ipython3",
   "version": "3.11.7"
  }
 },
 "nbformat": 4,
 "nbformat_minor": 5
}
